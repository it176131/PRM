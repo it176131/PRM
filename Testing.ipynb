{
 "cells": [
  {
   "cell_type": "code",
   "execution_count": 1,
   "id": "5b174aad",
   "metadata": {},
   "outputs": [],
   "source": [
    "from prm import *"
   ]
  },
  {
   "cell_type": "code",
   "execution_count": 2,
   "id": "43789f09",
   "metadata": {},
   "outputs": [],
   "source": [
    "# read data\n",
    "df = pd.read_excel(\n",
    "#     io=r\"\\\\kuha.kumed.com\\shares\\departments\\AA & BIS\\PRM\\2022494_Automation_of_PRM_Task_Creation\\ProjectBook.xlsx\"\n",
    "    io=r\"\\\\kuha.kumed.com\\shares\\departments\\AA & BIS\\PRM\\2022494_Automation_of_PRM_Task_Creation\\ProjectBookTest.xlsx\"\n",
    ")"
   ]
  },
  {
   "cell_type": "code",
   "execution_count": 3,
   "id": "e94c415a",
   "metadata": {},
   "outputs": [],
   "source": [
    "options = Options()"
   ]
  },
  {
   "cell_type": "code",
   "execution_count": 4,
   "id": "82c076b7",
   "metadata": {},
   "outputs": [],
   "source": [
    "from prm import _get_date"
   ]
  },
  {
   "cell_type": "code",
   "execution_count": 5,
   "id": "bed5c0ef",
   "metadata": {},
   "outputs": [],
   "source": [
    "today_str = _get_date()\n",
    "date = pd.to_datetime(today_str)\n",
    "month = date.month_name()\n",
    "year = date.year"
   ]
  },
  {
   "cell_type": "code",
   "execution_count": 6,
   "id": "9b7b5c36",
   "metadata": {},
   "outputs": [],
   "source": [
    "driver = webdriver.Edge(executable_path=\"msedgedriver.exe\")"
   ]
  },
  {
   "cell_type": "code",
   "execution_count": 7,
   "id": "9a7d830a",
   "metadata": {},
   "outputs": [],
   "source": [
    "wait = WebDriverWait(driver=driver, timeout=30)"
   ]
  },
  {
   "cell_type": "code",
   "execution_count": 8,
   "id": "5fb00b88",
   "metadata": {},
   "outputs": [],
   "source": [
    "for row in df.itertuples():\n",
    "    break"
   ]
  },
  {
   "cell_type": "code",
   "execution_count": 9,
   "id": "6290a2a1",
   "metadata": {},
   "outputs": [],
   "source": [
    "description = row.Description\n",
    "description = f\"{month} {year} {description}\""
   ]
  },
  {
   "cell_type": "code",
   "execution_count": 10,
   "id": "f89f222d",
   "metadata": {},
   "outputs": [],
   "source": [
    "bi_service_name = row.BIServiceName  # BI Service Name"
   ]
  },
  {
   "cell_type": "code",
   "execution_count": 11,
   "id": "ad495366",
   "metadata": {},
   "outputs": [],
   "source": [
    "bi_assignment_owner_name = row.BIAssignmentOwner  # BI Assignment Owner\n",
    "left = bi_assignment_owner_name.index(\"(\")\n",
    "right = bi_assignment_owner_name.index(\")\")\n",
    "bi_assignment_owner_name = bi_assignment_owner_name[left + 1: right]"
   ]
  },
  {
   "cell_type": "code",
   "execution_count": 12,
   "id": "a24b915a",
   "metadata": {},
   "outputs": [],
   "source": [
    "bi_team_name = row.BITeam  # BI Team"
   ]
  },
  {
   "cell_type": "code",
   "execution_count": 13,
   "id": "ecffc818",
   "metadata": {},
   "outputs": [],
   "source": [
    "resource = row.BIAssignmentOwner  # BI Assignment Owner\n",
    "left = resource.index(\"(\")\n",
    "resource = resource[:left]\n",
    "resource = resource.strip()"
   ]
  },
  {
   "cell_type": "code",
   "execution_count": 14,
   "id": "0dff4874",
   "metadata": {},
   "outputs": [],
   "source": [
    "left = row.BISwimLanes.index(\"(\")\n",
    "bi_swim_lane_name = row.BISwimLanes[left+1:-1]"
   ]
  },
  {
   "cell_type": "code",
   "execution_count": 15,
   "id": "c1eccfa1",
   "metadata": {},
   "outputs": [],
   "source": [
    "executive_sponsor_name = row.ExecutiveSponsor"
   ]
  },
  {
   "cell_type": "code",
   "execution_count": 16,
   "id": "3751f8d2",
   "metadata": {},
   "outputs": [],
   "source": [
    "bi_business_owner_name = row.BIBusinessOwner"
   ]
  },
  {
   "cell_type": "code",
   "execution_count": 17,
   "id": "f0771371",
   "metadata": {},
   "outputs": [],
   "source": [
    "bi_domain_name = row.BIDomain"
   ]
  },
  {
   "cell_type": "code",
   "execution_count": 18,
   "id": "feb00b9d",
   "metadata": {},
   "outputs": [],
   "source": [
    "requestor_name = row.Requestor"
   ]
  },
  {
   "cell_type": "code",
   "execution_count": 19,
   "id": "5eda91bf",
   "metadata": {},
   "outputs": [],
   "source": [
    "bi_liaison_name = row.BILiaison\n",
    "left = bi_liaison_name.index(\"(\")\n",
    "bi_liaison_name = bi_liaison_name[left+1: -1]"
   ]
  },
  {
   "cell_type": "code",
   "execution_count": 20,
   "id": "0ef123a9",
   "metadata": {},
   "outputs": [],
   "source": [
    "work_description_text = row.WorkDescription"
   ]
  },
  {
   "cell_type": "code",
   "execution_count": 21,
   "id": "cd32c8df",
   "metadata": {},
   "outputs": [],
   "source": [
    "business_need_text = row.BusinessNeed"
   ]
  },
  {
   "cell_type": "code",
   "execution_count": 22,
   "id": "25218361",
   "metadata": {},
   "outputs": [],
   "source": [
    "login(driver, wait)"
   ]
  },
  {
   "cell_type": "code",
   "execution_count": 23,
   "id": "e064e082",
   "metadata": {},
   "outputs": [],
   "source": [
    "new_work_page1(wait, today_str, description)"
   ]
  },
  {
   "cell_type": "code",
   "execution_count": 24,
   "id": "98ea2659",
   "metadata": {},
   "outputs": [],
   "source": [
    "new_work_page2(wait, today_str, bi_service_name)"
   ]
  },
  {
   "cell_type": "code",
   "execution_count": 25,
   "id": "61c330bf",
   "metadata": {},
   "outputs": [],
   "source": [
    "work_and_assignments(wait, driver, bi_assignment_owner_name, bi_team_name)"
   ]
  },
  {
   "cell_type": "code",
   "execution_count": 26,
   "id": "1c50365f",
   "metadata": {},
   "outputs": [],
   "source": [
    "open_resource_search_window(wait, driver)"
   ]
  },
  {
   "cell_type": "code",
   "execution_count": 27,
   "id": "6c698464",
   "metadata": {},
   "outputs": [],
   "source": [
    "#     logger.info(\"allocate\")\n",
    "allocate(driver, wait, resource)"
   ]
  },
  {
   "cell_type": "code",
   "execution_count": 28,
   "id": "338b5cf2",
   "metadata": {},
   "outputs": [],
   "source": [
    "sleep(2)"
   ]
  },
  {
   "cell_type": "code",
   "execution_count": 29,
   "id": "b825097e",
   "metadata": {},
   "outputs": [],
   "source": [
    "navigate_to_work_view(wait)"
   ]
  },
  {
   "cell_type": "code",
   "execution_count": 30,
   "id": "1f1b89be",
   "metadata": {},
   "outputs": [],
   "source": [
    "edit_work_detail(driver, wait)"
   ]
  },
  {
   "cell_type": "code",
   "execution_count": 31,
   "id": "d1d0a344",
   "metadata": {},
   "outputs": [],
   "source": [
    "describe_and_categorize_bi(\n",
    "    wait,\n",
    "    driver,\n",
    "    bi_swim_lane_name,\n",
    "    executive_sponsor_name,\n",
    "    bi_business_owner_name,\n",
    "    bi_domain_name,\n",
    "    requestor_name,\n",
    "    bi_liaison_name,\n",
    "    work_description_text,\n",
    "    business_need_text\n",
    ")"
   ]
  },
  {
   "cell_type": "code",
   "execution_count": 32,
   "id": "e5190859",
   "metadata": {},
   "outputs": [],
   "source": [
    "sleep(2)"
   ]
  },
  {
   "cell_type": "code",
   "execution_count": 34,
   "id": "0f756a87",
   "metadata": {},
   "outputs": [],
   "source": [
    "# logger.info(\"quit\")\n",
    "driver.quit()"
   ]
  }
 ],
 "metadata": {
  "kernelspec": {
   "display_name": "Python 3",
   "language": "python",
   "name": "python3"
  },
  "language_info": {
   "codemirror_mode": {
    "name": "ipython",
    "version": 3
   },
   "file_extension": ".py",
   "mimetype": "text/x-python",
   "name": "python",
   "nbconvert_exporter": "python",
   "pygments_lexer": "ipython3",
   "version": "3.7.10"
  },
  "toc": {
   "base_numbering": 1,
   "nav_menu": {},
   "number_sections": true,
   "sideBar": true,
   "skip_h1_title": false,
   "title_cell": "Table of Contents",
   "title_sidebar": "Contents",
   "toc_cell": true,
   "toc_position": {},
   "toc_section_display": true,
   "toc_window_display": false
  }
 },
 "nbformat": 4,
 "nbformat_minor": 5
}
